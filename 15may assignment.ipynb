{
 "cells": [
  {
   "cell_type": "raw",
   "id": "4510d931-2311-4f9c-9522-0f4fba5e88fb",
   "metadata": {},
   "source": [
    "Q1. How do you comment code in Python? What are the different types of comments?\n",
    "\n",
    "Comments in Python are the lines in the code that are ignored by the interpreter during the execution of the program\n",
    "comments makes program understandable and easy to read the code\n",
    "There are three types of comments in Python:\n",
    "\n",
    "Single line Comments\n",
    "Multiline Comments\n",
    "Docstring Comments\n",
    "\n",
    "Single line Comments -\n",
    "Python single-line comment starts with the hashtag symbol with no white spaces and lasts till the end of the line\n",
    "Example -\n",
    "#this is a single line comment\n",
    "\n",
    "Multiline Comments -\n",
    "there is no such comment but we can achieve this by select lines which u want in code and  (ctrl+/).this will comment all lines by single line comment\n",
    "example -\n",
    "#my name is shivangi\n",
    "#Iam a student of physics wallah \n",
    "#Iam learning data science here \n",
    "\n",
    "Docstring Comments -\n",
    "string literals with quotes that are appeared right after the function\n",
    "example -\n",
    "\"'this is a docstring Comments comment'\""
   ]
  },
  {
   "cell_type": "markdown",
   "id": "06ecafd7-a33e-4937-b63e-a7df28fb4133",
   "metadata": {},
   "source": [
    "Q2- What are variables in Python? How do you declare and assign values to variables?\n",
    "\n",
    "Variables in Python are used to store data values. They are names attached to objects that can hold various types of data, such as numbers, strings, lists etc. To declare and assign a value to a variable in Python, we use the assignment operator \"=\"132. \n",
    "For example, A =5 \n",
    "assigns the value 5 to the variable A."
   ]
  },
  {
   "cell_type": "markdown",
   "id": "f4677db7-6990-4759-b408-614b4e058f4a",
   "metadata": {},
   "source": [
    "Q3- How do you convert one data type to another in Python?\n",
    "\n",
    "The data can its data type manually by changing its expression providing its datatype to variable like int(x).\n",
    "\n",
    "example -\n"
   ]
  },
  {
   "cell_type": "code",
   "execution_count": 15,
   "id": "0718fc5e-4037-4050-8740-d946ca4db918",
   "metadata": {},
   "outputs": [
    {
     "name": "stdout",
     "output_type": "stream",
     "text": [
      "<class 'float'>\n",
      "67\n",
      "<class 'int'>\n",
      "45.0\n"
     ]
    }
   ],
   "source": [
    "A = 67.00\n",
    "print (type(A))\n",
    "print (int(A))\n",
    "\n",
    "B= 45\n",
    "print (type(B))\n",
    "print (float(B))"
   ]
  },
  {
   "cell_type": "markdown",
   "id": "e6eaae0e-bb10-4552-af1d-2be048e3f96f",
   "metadata": {},
   "source": [
    "Q4. How do you write and execute a Python script from the command line?\n",
    "\n",
    "To run a Python script store in a '.py' file in command line, we have to write 'python' keyword before the file name in the command prompt.\n",
    "\n",
    "example - python Shivangi.py"
   ]
  },
  {
   "cell_type": "markdown",
   "id": "1b15d2ae-e0b7-494d-8e54-a919fcd59faf",
   "metadata": {},
   "source": [
    "Q5. Given a list my_list = [1, 2, 3, 4, 5], write the code to slice the list and obtain the sub-list [2, 3]."
   ]
  },
  {
   "cell_type": "code",
   "execution_count": 20,
   "id": "647fa229-aa94-4a96-9662-d28a97e99b7d",
   "metadata": {},
   "outputs": [
    {
     "name": "stdout",
     "output_type": "stream",
     "text": [
      "[2, 3]\n"
     ]
    }
   ],
   "source": [
    "my_list = [1, 2, 3, 4, 5]\n",
    "sub_list = my_list[1:3]\n",
    "print (sub_list)"
   ]
  },
  {
   "cell_type": "markdown",
   "id": "72f0162b-96f5-4e61-aa73-267be30c7e9b",
   "metadata": {},
   "source": [
    "Q6. What is a complex number in mathematics, and how is it represented in Python?\n",
    "\n",
    "Complex numbers in Python are numbers of the form a + bj, where a is real numbers, and bj is a imaginary  number \n",
    "In mathematics there is a+bi where a is real and bi is imaginary number \n",
    "in python j is replace with i\n",
    "\n",
    "example -"
   ]
  },
  {
   "cell_type": "code",
   "execution_count": 24,
   "id": "a283b06e-82d4-4ef4-82a2-5e98531d9b47",
   "metadata": {},
   "outputs": [
    {
     "name": "stdout",
     "output_type": "stream",
     "text": [
      "<class 'complex'>\n",
      "36.0\n",
      "56.0\n"
     ]
    }
   ],
   "source": [
    "comp = 36+56j\n",
    "print (type(comp))\n",
    "print (comp.real)\n",
    "print (comp.imag)"
   ]
  },
  {
   "cell_type": "markdown",
   "id": "0ef64652-49b4-44b3-a167-f71d2c369622",
   "metadata": {},
   "source": [
    "Q7. What is the correct way to declare a variable named age and assign the value 25 to it?\n",
    "\n",
    "A variable is created the moment you first assign a value to it."
   ]
  },
  {
   "cell_type": "code",
   "execution_count": 25,
   "id": "a2e6f998-daaa-490d-a27f-6fc66b6b378c",
   "metadata": {},
   "outputs": [],
   "source": [
    "age = 25"
   ]
  },
  {
   "cell_type": "markdown",
   "id": "1ce0485b-55d5-44d9-a77d-5d80d973e0ee",
   "metadata": {},
   "source": [
    "Q8. Declare a variable named price and assign the value 9.99 to it. What data type does this variable\n",
    "belong to?\n"
   ]
  },
  {
   "cell_type": "code",
   "execution_count": 28,
   "id": "2918854c-9d39-4d8e-93ba-5af4f59ed01c",
   "metadata": {},
   "outputs": [
    {
     "name": "stdout",
     "output_type": "stream",
     "text": [
      "<class 'float'>\n"
     ]
    },
    {
     "data": {
      "text/plain": [
       "'price variable belongs to float datatype'"
      ]
     },
     "execution_count": 28,
     "metadata": {},
     "output_type": "execute_result"
    }
   ],
   "source": [
    "price = 9.99\n",
    "print(type(price))\n",
    "\"price variable belongs to float datatype\""
   ]
  },
  {
   "cell_type": "markdown",
   "id": "a4ce8198-5e88-483b-bafa-ab3b9cd71d52",
   "metadata": {},
   "source": [
    "Q9. Create a variable named name and assign your full name to it as a string. How would you print the\n",
    "value of this variable?"
   ]
  },
  {
   "cell_type": "code",
   "execution_count": 30,
   "id": "ea8e3442-abc5-4710-b7cb-c9ed894b1425",
   "metadata": {},
   "outputs": [
    {
     "name": "stdout",
     "output_type": "stream",
     "text": [
      "Shivangi sahu\n"
     ]
    }
   ],
   "source": [
    "name =\"Shivangi sahu\"\n",
    "print (name)"
   ]
  },
  {
   "cell_type": "markdown",
   "id": "6b1e0463-7031-4325-bcfc-97ab6f6607ca",
   "metadata": {},
   "source": [
    "Q10. Given the string \"Hello, World!\", extract the substring \"World\"."
   ]
  },
  {
   "cell_type": "code",
   "execution_count": 62,
   "id": "def3de0b-489d-43ae-8dba-7a4d9d2d7a61",
   "metadata": {},
   "outputs": [
    {
     "data": {
      "text/plain": [
       "'World'"
      ]
     },
     "execution_count": 62,
     "metadata": {},
     "output_type": "execute_result"
    }
   ],
   "source": [
    "str1 = \"Hello, World!\"\n",
    "str1[7:12:]"
   ]
  },
  {
   "cell_type": "markdown",
   "id": "dcf869ac-60d2-4204-9592-2ef7495fb464",
   "metadata": {},
   "source": [
    "Q11. Create a variable named \"is_student\" and assign it a boolean value indicating whether you are\n",
    "currently a student or not."
   ]
  },
  {
   "cell_type": "code",
   "execution_count": 64,
   "id": "cb9b64c9-e965-4e19-9982-605abbded98e",
   "metadata": {},
   "outputs": [
    {
     "name": "stdout",
     "output_type": "stream",
     "text": [
      "I am currently a student\n"
     ]
    }
   ],
   "source": [
    "is_student =True\n",
    "if is_student==True:\n",
    "    print(\"I am currently a student\")\n",
    "else:\n",
    "    print(\"I am currently NOt a student\")\n",
    "    \n"
   ]
  },
  {
   "cell_type": "code",
   "execution_count": null,
   "id": "0aeac288-b16a-4ed3-8410-60dd4f766855",
   "metadata": {},
   "outputs": [],
   "source": []
  }
 ],
 "metadata": {
  "kernelspec": {
   "display_name": "Python 3 (ipykernel)",
   "language": "python",
   "name": "python3"
  },
  "language_info": {
   "codemirror_mode": {
    "name": "ipython",
    "version": 3
   },
   "file_extension": ".py",
   "mimetype": "text/x-python",
   "name": "python",
   "nbconvert_exporter": "python",
   "pygments_lexer": "ipython3",
   "version": "3.10.8"
  }
 },
 "nbformat": 4,
 "nbformat_minor": 5
}
